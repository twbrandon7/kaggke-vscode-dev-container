{
 "cells": [
  {
   "cell_type": "code",
   "execution_count": 1,
   "metadata": {},
   "outputs": [
    {
     "name": "stderr",
     "output_type": "stream",
     "text": [
      "2023/03/04 16:28:32 INFO mlflow.tracking.fluent: Experiment with name '/test' does not exist. Creating a new experiment.\n"
     ]
    }
   ],
   "source": [
    "from random import random, randint\n",
    "import mlflow\n",
    "from dotenv import load_dotenv\n",
    "\n",
    "# please configure your .env file first\n",
    "load_dotenv()\n",
    "\n",
    "mlflow.set_experiment(\"/test\")\n",
    "with mlflow.start_run():\n",
    "    # Log a parameter (key-value pair)\n",
    "    mlflow.log_param(\"param1\", randint(0, 100))\n",
    "\n",
    "    # Log a metric; metrics can be updated throughout the run\n",
    "    mlflow.log_metric(\"foo\", random())\n",
    "    mlflow.log_metric(\"foo\", random() + 1)\n",
    "    mlflow.log_metric(\"foo\", random() + 2)"
   ]
  },
  {
   "cell_type": "code",
   "execution_count": null,
   "metadata": {},
   "outputs": [],
   "source": []
  }
 ],
 "metadata": {
  "kernelspec": {
   "display_name": "venv",
   "language": "python",
   "name": "python3"
  },
  "language_info": {
   "codemirror_mode": {
    "name": "ipython",
    "version": 3
   },
   "file_extension": ".py",
   "mimetype": "text/x-python",
   "name": "python",
   "nbconvert_exporter": "python",
   "pygments_lexer": "ipython3",
   "version": "3.7.15"
  },
  "orig_nbformat": 4
 },
 "nbformat": 4,
 "nbformat_minor": 2
}
